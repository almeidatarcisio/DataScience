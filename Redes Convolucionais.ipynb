{
  "cells": [
    {
      "cell_type": "code",
      "execution_count": null,
      "id": "9abbb5fc-5ce2-4adf-ab3b-2ae196295d5a",
      "metadata": {
        "id": "9abbb5fc-5ce2-4adf-ab3b-2ae196295d5a",
        "outputId": "9df9e115-d56a-431b-d513-883dca551725"
      },
      "outputs": [
        {
          "name": "stderr",
          "output_type": "stream",
          "text": [
            "2024-07-10 08:16:51.884039: I tensorflow/core/platform/cpu_feature_guard.cc:210] This TensorFlow binary is optimized to use available CPU instructions in performance-critical operations.\n",
            "To enable the following instructions: AVX2 FMA, in other operations, rebuild TensorFlow with the appropriate compiler flags.\n"
          ]
        }
      ],
      "source": [
        "import matplotlib.pyplot as plt\n",
        "from matplotlib import animation\n",
        "import numpy as np\n",
        "import tensorflow as tf"
      ]
    },
    {
      "cell_type": "code",
      "execution_count": null,
      "id": "374d355a-7898-48bf-8f23-a77e302f9734",
      "metadata": {
        "id": "374d355a-7898-48bf-8f23-a77e302f9734"
      },
      "outputs": [],
      "source": []
    },
    {
      "cell_type": "markdown",
      "id": "5b227b8a-93d9-4dd3-8631-303b34cacf53",
      "metadata": {
        "id": "5b227b8a-93d9-4dd3-8631-303b34cacf53"
      },
      "source": [
        "# Experimento com redes convolucionais\n",
        "\n",
        "Neste experimento, iremos mostrar um reconhecedor de dígitos manuscritos. Para isto, carregaremos o dataset MNIST e treinaremos uma rede convolucional para executar a tarefa de classificação.\n",
        "\n",
        "Para testar o sistema, iremos ter um \"board\" onde poderemos escrever um número para usar como entrada para rede e ver sua classificação."
      ]
    },
    {
      "cell_type": "code",
      "execution_count": null,
      "id": "ba34f826-2a76-4906-95f8-fa6611e940ce",
      "metadata": {
        "id": "ba34f826-2a76-4906-95f8-fa6611e940ce"
      },
      "outputs": [],
      "source": []
    },
    {
      "cell_type": "markdown",
      "id": "e56fdfd8-cf28-4ffb-970d-882cf7bf5349",
      "metadata": {
        "id": "e56fdfd8-cf28-4ffb-970d-882cf7bf5349"
      },
      "source": [
        "- Aqui definimos a classe auxiliar que fará o board para escrevermos com o mouse. Essa classe é auxiliar e não faz parte do experimento."
      ]
    },
    {
      "cell_type": "code",
      "execution_count": null,
      "id": "2f9501d8-e998-40aa-94e0-46a53b6ac74e",
      "metadata": {
        "id": "2f9501d8-e998-40aa-94e0-46a53b6ac74e"
      },
      "outputs": [],
      "source": [
        "class Board:\n",
        "\n",
        "    def __init__(self):\n",
        "\n",
        "        self.b = None\n",
        "        self.x = None\n",
        "        self.y = None\n",
        "        self.complete = False\n",
        "\n",
        "        self.nx = 28\n",
        "        self.ny = 28\n",
        "\n",
        "        self.fig = plt.figure()\n",
        "        self.img = np.zeros((self.nx, self.ny))\n",
        "        self.im = plt.imshow(self.img, cmap='gist_gray_r', vmin=0, vmax=1)\n",
        "\n",
        "        plt.connect('motion_notify_event', self.mouse_move)\n",
        "\n",
        "        self.anim = animation.FuncAnimation(self.fig, self.animate, init_func=self.init, frames=self.nx*self.ny, interval=50)\n",
        "\n",
        "\n",
        "    def mouse_move(self, event):\n",
        "\n",
        "        self.x, self.y, self.b = event.xdata, event.ydata, event.button\n",
        "\n",
        "\n",
        "\n",
        "    def setPixel(self, img, x, y, val):\n",
        "        if x>=0 and y>=0 and x < img.shape[0] and y < img.shape[1]:\n",
        "            img[x, y] += val\n",
        "            if img[x, y] > 1:\n",
        "                img[x, y] = 1\n",
        "\n",
        "\n",
        "    def drawPoint(self, img, x, y):\n",
        "\n",
        "        self.setPixel(img, x, y, 1)\n",
        "        self.setPixel(img, x+1, y, 0.25)\n",
        "        self.setPixel(img, x, y+1, 0.25)\n",
        "        self.setPixel(img, x-1, y+1, 0.25)\n",
        "        self.setPixel(img, x+1, y+1, 0.25)\n",
        "\n",
        "        self.setPixel(img, x+1, y, 0.25)\n",
        "        self.setPixel(img, x, y+1, 0.25)\n",
        "        self.setPixel(img, x-1, y, 0.25)\n",
        "        self.setPixel(img, x, y-1, 0.25)\n",
        "\n",
        "\n",
        "\n",
        "\n",
        "\n",
        "\n",
        "    def init(self):\n",
        "        self.im.set_data(np.zeros((self.nx, self.ny)))\n",
        "\n",
        "    def animate(self, i):\n",
        "\n",
        "\n",
        "        if self.b == plt.MouseButton.LEFT:\n",
        "            self.drawPoint(self.img, int(self.y), int(self.x))\n",
        "\n",
        "        if self.b == plt.MouseButton.RIGHT:\n",
        "            self.complete = True\n",
        "\n",
        "\n",
        "        self.im.set_data(self.img + np.random.randn(self.nx,self.ny)*0.05)\n",
        "        return self.im\n",
        "\n",
        "\n",
        "    def run(self):\n",
        "\n",
        "        while not self.complete:\n",
        "            plt.pause(0.1)\n",
        "\n",
        "        plt.close()\n"
      ]
    },
    {
      "cell_type": "code",
      "execution_count": null,
      "id": "2ace3bc6-337c-4859-962e-c33f8af152a2",
      "metadata": {
        "id": "2ace3bc6-337c-4859-962e-c33f8af152a2"
      },
      "outputs": [],
      "source": []
    },
    {
      "cell_type": "code",
      "execution_count": null,
      "id": "44a46626-972e-4ddb-9a02-fb4e5d58bbde",
      "metadata": {
        "id": "44a46626-972e-4ddb-9a02-fb4e5d58bbde"
      },
      "outputs": [],
      "source": []
    },
    {
      "cell_type": "markdown",
      "id": "9a8ea699-b646-43e2-b47b-c2f6536ea41e",
      "metadata": {
        "id": "9a8ea699-b646-43e2-b47b-c2f6536ea41e"
      },
      "source": [
        "### inicio do experimento propriamente dito"
      ]
    },
    {
      "cell_type": "code",
      "execution_count": null,
      "id": "a172865b-d727-4284-819f-bfc53f6421e8",
      "metadata": {
        "id": "a172865b-d727-4284-819f-bfc53f6421e8"
      },
      "outputs": [],
      "source": []
    },
    {
      "cell_type": "markdown",
      "id": "cac5aa73-ddcb-4edb-8d4a-38232ea385ab",
      "metadata": {
        "id": "cac5aa73-ddcb-4edb-8d4a-38232ea385ab"
      },
      "source": [
        "- carregamos o dataset utilizando o keras.dataset"
      ]
    },
    {
      "cell_type": "code",
      "execution_count": null,
      "id": "44b7a939-c701-4988-932b-52eea0d8e26b",
      "metadata": {
        "id": "44b7a939-c701-4988-932b-52eea0d8e26b"
      },
      "outputs": [],
      "source": [
        "# 1. Carregar conjuntdo MNIST\n",
        "(X_train, y_train), (X_test, y_test) = tf.keras.datasets.mnist.load_data()\n"
      ]
    },
    {
      "cell_type": "code",
      "execution_count": null,
      "id": "417956e5-eac5-4481-94b8-a49dbc41d233",
      "metadata": {
        "id": "417956e5-eac5-4481-94b8-a49dbc41d233"
      },
      "outputs": [],
      "source": []
    },
    {
      "cell_type": "markdown",
      "id": "16dddcc2-5fa2-4616-add9-ace3aacf3eba",
      "metadata": {
        "id": "16dddcc2-5fa2-4616-add9-ace3aacf3eba"
      },
      "source": [
        "- preparamos o dataset para entrada na rede:\n",
        "\n",
        "    Normalização e reshape de cada elemento do dataset\n",
        "\n",
        "    Fazemos isso tanto para entrada quanto para saída"
      ]
    },
    {
      "cell_type": "code",
      "execution_count": null,
      "id": "e8399f4a-1574-4ca6-9a51-5ee085b2c3f5",
      "metadata": {
        "id": "e8399f4a-1574-4ca6-9a51-5ee085b2c3f5"
      },
      "outputs": [],
      "source": [
        "# 2. Preprocessar entradas para ajustar os tamanhos\n",
        "X_train = X_train.reshape(X_train.shape[0], 28, 28, 1)/255.0\n",
        "X_test = X_test.reshape(X_test.shape[0], 28, 28, 1)/255.0\n"
      ]
    },
    {
      "cell_type": "code",
      "execution_count": null,
      "id": "fc045272-ef62-4ecd-8f16-943b8de0a960",
      "metadata": {
        "id": "fc045272-ef62-4ecd-8f16-943b8de0a960"
      },
      "outputs": [],
      "source": [
        "# 3. Ajustar formato das saídas\n",
        "y_train = tf.keras.utils.to_categorical(y_train, 10)\n",
        "y_test = tf.keras.utils.to_categorical(y_test, 10)\n"
      ]
    },
    {
      "cell_type": "code",
      "execution_count": null,
      "id": "9a40031a-5c41-4920-b64d-28dc5c20dfa0",
      "metadata": {
        "id": "9a40031a-5c41-4920-b64d-28dc5c20dfa0"
      },
      "outputs": [],
      "source": []
    },
    {
      "cell_type": "markdown",
      "id": "481b29ed-305a-4867-b431-378aabf2f2ab",
      "metadata": {
        "id": "481b29ed-305a-4867-b431-378aabf2f2ab"
      },
      "source": [
        "- Aqui construimos o modelo"
      ]
    },
    {
      "cell_type": "code",
      "execution_count": null,
      "id": "65132590-3121-4aed-8731-d480bb22934b",
      "metadata": {
        "id": "65132590-3121-4aed-8731-d480bb22934b"
      },
      "outputs": [],
      "source": [
        "# 4. construir o modelo\n",
        "model = tf.keras.Sequential()\n",
        "\n",
        "model.add( tf.keras.layers.Input((28,28,1)) )\n",
        "\n",
        "model.add( tf.keras.layers.Convolution2D(9, (5, 5), padding = 'same', activation='relu') )\n",
        "\n",
        "#model.add( tf.keras.layers.Convolution2D(16, (3, 3), padding = 'same', activation='relu') )\n",
        "\n",
        "model.add( tf.keras.layers.Flatten() )\n",
        "\n",
        "model.add( tf.keras.layers.Dense(10, activation='softmax') )\n"
      ]
    },
    {
      "cell_type": "code",
      "execution_count": null,
      "id": "1b1fa233-7504-49ef-aa89-7c88372543be",
      "metadata": {
        "id": "1b1fa233-7504-49ef-aa89-7c88372543be"
      },
      "outputs": [],
      "source": []
    },
    {
      "cell_type": "markdown",
      "id": "5bfe2b35-67a6-4ebc-9dd7-d8ec68c1b19c",
      "metadata": {
        "id": "5bfe2b35-67a6-4ebc-9dd7-d8ec68c1b19c"
      },
      "source": [
        "- Compilamos o mesmo, escolhendo uma função de loss, o algoritmo de optimização e uma métrica para avaliaçao"
      ]
    },
    {
      "cell_type": "code",
      "execution_count": null,
      "id": "b240821f-fd44-432e-8e33-1c6f95d576d3",
      "metadata": {
        "id": "b240821f-fd44-432e-8e33-1c6f95d576d3"
      },
      "outputs": [],
      "source": [
        "# 5. Compilar o modelo\n",
        "model.compile(loss='categorical_crossentropy',\n",
        "              optimizer='adam',\n",
        "              metrics=['accuracy'])\n"
      ]
    },
    {
      "cell_type": "code",
      "execution_count": null,
      "id": "d87bb135-67ea-4bbb-92d4-7bf466e09bde",
      "metadata": {
        "id": "d87bb135-67ea-4bbb-92d4-7bf466e09bde"
      },
      "outputs": [],
      "source": []
    },
    {
      "cell_type": "markdown",
      "id": "464d3388-25dc-42ff-88f0-edb959475efc",
      "metadata": {
        "id": "464d3388-25dc-42ff-88f0-edb959475efc"
      },
      "source": [
        "- Utilizando o sumario, podemos verificar o número de parâmetros envolvidos no modelo"
      ]
    },
    {
      "cell_type": "code",
      "execution_count": null,
      "id": "9260491e-06c9-4844-9128-0a41e84e81fa",
      "metadata": {
        "id": "9260491e-06c9-4844-9128-0a41e84e81fa",
        "outputId": "83c33610-913f-440d-8214-5a8fadbb1ad0"
      },
      "outputs": [
        {
          "data": {
            "text/html": [
              "<pre style=\"white-space:pre;overflow-x:auto;line-height:normal;font-family:Menlo,'DejaVu Sans Mono',consolas,'Courier New',monospace\"><span style=\"font-weight: bold\">Model: \"sequential\"</span>\n",
              "</pre>\n"
            ],
            "text/plain": [
              "\u001b[1mModel: \"sequential\"\u001b[0m\n"
            ]
          },
          "metadata": {},
          "output_type": "display_data"
        },
        {
          "data": {
            "text/html": [
              "<pre style=\"white-space:pre;overflow-x:auto;line-height:normal;font-family:Menlo,'DejaVu Sans Mono',consolas,'Courier New',monospace\">┏━━━━━━━━━━━━━━━━━━━━━━━━━━━━━━━━━┳━━━━━━━━━━━━━━━━━━━━━━━━┳━━━━━━━━━━━━━━━┓\n",
              "┃<span style=\"font-weight: bold\"> Layer (type)                    </span>┃<span style=\"font-weight: bold\"> Output Shape           </span>┃<span style=\"font-weight: bold\">       Param # </span>┃\n",
              "┡━━━━━━━━━━━━━━━━━━━━━━━━━━━━━━━━━╇━━━━━━━━━━━━━━━━━━━━━━━━╇━━━━━━━━━━━━━━━┩\n",
              "│ conv2d (<span style=\"color: #0087ff; text-decoration-color: #0087ff\">Conv2D</span>)                 │ (<span style=\"color: #00d7ff; text-decoration-color: #00d7ff\">None</span>, <span style=\"color: #00af00; text-decoration-color: #00af00\">28</span>, <span style=\"color: #00af00; text-decoration-color: #00af00\">28</span>, <span style=\"color: #00af00; text-decoration-color: #00af00\">9</span>)      │           <span style=\"color: #00af00; text-decoration-color: #00af00\">234</span> │\n",
              "├─────────────────────────────────┼────────────────────────┼───────────────┤\n",
              "│ flatten (<span style=\"color: #0087ff; text-decoration-color: #0087ff\">Flatten</span>)               │ (<span style=\"color: #00d7ff; text-decoration-color: #00d7ff\">None</span>, <span style=\"color: #00af00; text-decoration-color: #00af00\">7056</span>)           │             <span style=\"color: #00af00; text-decoration-color: #00af00\">0</span> │\n",
              "├─────────────────────────────────┼────────────────────────┼───────────────┤\n",
              "│ dense (<span style=\"color: #0087ff; text-decoration-color: #0087ff\">Dense</span>)                   │ (<span style=\"color: #00d7ff; text-decoration-color: #00d7ff\">None</span>, <span style=\"color: #00af00; text-decoration-color: #00af00\">10</span>)             │        <span style=\"color: #00af00; text-decoration-color: #00af00\">70,570</span> │\n",
              "└─────────────────────────────────┴────────────────────────┴───────────────┘\n",
              "</pre>\n"
            ],
            "text/plain": [
              "┏━━━━━━━━━━━━━━━━━━━━━━━━━━━━━━━━━┳━━━━━━━━━━━━━━━━━━━━━━━━┳━━━━━━━━━━━━━━━┓\n",
              "┃\u001b[1m \u001b[0m\u001b[1mLayer (type)                   \u001b[0m\u001b[1m \u001b[0m┃\u001b[1m \u001b[0m\u001b[1mOutput Shape          \u001b[0m\u001b[1m \u001b[0m┃\u001b[1m \u001b[0m\u001b[1m      Param #\u001b[0m\u001b[1m \u001b[0m┃\n",
              "┡━━━━━━━━━━━━━━━━━━━━━━━━━━━━━━━━━╇━━━━━━━━━━━━━━━━━━━━━━━━╇━━━━━━━━━━━━━━━┩\n",
              "│ conv2d (\u001b[38;5;33mConv2D\u001b[0m)                 │ (\u001b[38;5;45mNone\u001b[0m, \u001b[38;5;34m28\u001b[0m, \u001b[38;5;34m28\u001b[0m, \u001b[38;5;34m9\u001b[0m)      │           \u001b[38;5;34m234\u001b[0m │\n",
              "├─────────────────────────────────┼────────────────────────┼───────────────┤\n",
              "│ flatten (\u001b[38;5;33mFlatten\u001b[0m)               │ (\u001b[38;5;45mNone\u001b[0m, \u001b[38;5;34m7056\u001b[0m)           │             \u001b[38;5;34m0\u001b[0m │\n",
              "├─────────────────────────────────┼────────────────────────┼───────────────┤\n",
              "│ dense (\u001b[38;5;33mDense\u001b[0m)                   │ (\u001b[38;5;45mNone\u001b[0m, \u001b[38;5;34m10\u001b[0m)             │        \u001b[38;5;34m70,570\u001b[0m │\n",
              "└─────────────────────────────────┴────────────────────────┴───────────────┘\n"
            ]
          },
          "metadata": {},
          "output_type": "display_data"
        },
        {
          "data": {
            "text/html": [
              "<pre style=\"white-space:pre;overflow-x:auto;line-height:normal;font-family:Menlo,'DejaVu Sans Mono',consolas,'Courier New',monospace\"><span style=\"font-weight: bold\"> Total params: </span><span style=\"color: #00af00; text-decoration-color: #00af00\">212,414</span> (829.75 KB)\n",
              "</pre>\n"
            ],
            "text/plain": [
              "\u001b[1m Total params: \u001b[0m\u001b[38;5;34m212,414\u001b[0m (829.75 KB)\n"
            ]
          },
          "metadata": {},
          "output_type": "display_data"
        },
        {
          "data": {
            "text/html": [
              "<pre style=\"white-space:pre;overflow-x:auto;line-height:normal;font-family:Menlo,'DejaVu Sans Mono',consolas,'Courier New',monospace\"><span style=\"font-weight: bold\"> Trainable params: </span><span style=\"color: #00af00; text-decoration-color: #00af00\">70,804</span> (276.58 KB)\n",
              "</pre>\n"
            ],
            "text/plain": [
              "\u001b[1m Trainable params: \u001b[0m\u001b[38;5;34m70,804\u001b[0m (276.58 KB)\n"
            ]
          },
          "metadata": {},
          "output_type": "display_data"
        },
        {
          "data": {
            "text/html": [
              "<pre style=\"white-space:pre;overflow-x:auto;line-height:normal;font-family:Menlo,'DejaVu Sans Mono',consolas,'Courier New',monospace\"><span style=\"font-weight: bold\"> Non-trainable params: </span><span style=\"color: #00af00; text-decoration-color: #00af00\">0</span> (0.00 B)\n",
              "</pre>\n"
            ],
            "text/plain": [
              "\u001b[1m Non-trainable params: \u001b[0m\u001b[38;5;34m0\u001b[0m (0.00 B)\n"
            ]
          },
          "metadata": {},
          "output_type": "display_data"
        },
        {
          "data": {
            "text/html": [
              "<pre style=\"white-space:pre;overflow-x:auto;line-height:normal;font-family:Menlo,'DejaVu Sans Mono',consolas,'Courier New',monospace\"><span style=\"font-weight: bold\"> Optimizer params: </span><span style=\"color: #00af00; text-decoration-color: #00af00\">141,610</span> (553.17 KB)\n",
              "</pre>\n"
            ],
            "text/plain": [
              "\u001b[1m Optimizer params: \u001b[0m\u001b[38;5;34m141,610\u001b[0m (553.17 KB)\n"
            ]
          },
          "metadata": {},
          "output_type": "display_data"
        }
      ],
      "source": [
        "model.summary()"
      ]
    },
    {
      "cell_type": "code",
      "execution_count": null,
      "id": "4b5dd456-9278-48fa-82ca-07619c0e6bf0",
      "metadata": {
        "id": "4b5dd456-9278-48fa-82ca-07619c0e6bf0"
      },
      "outputs": [],
      "source": []
    },
    {
      "cell_type": "markdown",
      "id": "91458394-0b59-419f-b631-f589b6b08f60",
      "metadata": {
        "id": "91458394-0b59-419f-b631-f589b6b08f60"
      },
      "source": [
        "- Aqui realizamos o treinamento. Como ja temos um modelo treinado, a linha fit esta comentada, e apenas carregamos o modelo ja treinado"
      ]
    },
    {
      "cell_type": "code",
      "execution_count": null,
      "id": "5b1d858a-1318-4c63-8713-f8b75fc625e5",
      "metadata": {
        "id": "5b1d858a-1318-4c63-8713-f8b75fc625e5"
      },
      "outputs": [],
      "source": [
        "# 6. Treino!\n",
        "#model.fit(X_train, y_train, batch_size=128, epochs=10, verbose=1)\n",
        "model = tf.keras.models.load_model('mnist_trained.keras')\n"
      ]
    },
    {
      "cell_type": "code",
      "execution_count": null,
      "id": "65fbe859-578c-4d27-ab71-c8cb5810f597",
      "metadata": {
        "id": "65fbe859-578c-4d27-ab71-c8cb5810f597"
      },
      "outputs": [],
      "source": [
        "model.save('mnist_trained.keras')"
      ]
    },
    {
      "cell_type": "code",
      "execution_count": null,
      "id": "e28d0a49-abfc-45cd-8c89-3767f5b97f7a",
      "metadata": {
        "id": "e28d0a49-abfc-45cd-8c89-3767f5b97f7a"
      },
      "outputs": [],
      "source": []
    },
    {
      "cell_type": "markdown",
      "id": "27faf27c-5a9a-433a-ac75-2e775cb0770f",
      "metadata": {
        "id": "27faf27c-5a9a-433a-ac75-2e775cb0770f"
      },
      "source": [
        "- Aqui testamos o modelo com várias imagens que não foram treinadas para validar o seu treinamento"
      ]
    },
    {
      "cell_type": "code",
      "execution_count": null,
      "id": "bc1ef0d3-42ae-4452-be8b-24bb8fd7bea6",
      "metadata": {
        "id": "bc1ef0d3-42ae-4452-be8b-24bb8fd7bea6",
        "outputId": "7902e478-8ca8-488c-c219-0acdd2a873b6"
      },
      "outputs": [
        {
          "name": "stdout",
          "output_type": "stream",
          "text": [
            "\u001b[1m1/1\u001b[0m \u001b[32m━━━━━━━━━━━━━━━━━━━━\u001b[0m\u001b[37m\u001b[0m \u001b[1m0s\u001b[0m 17ms/step\n",
            "\u001b[1m1/1\u001b[0m \u001b[32m━━━━━━━━━━━━━━━━━━━━\u001b[0m\u001b[37m\u001b[0m \u001b[1m0s\u001b[0m 14ms/step\n",
            "\u001b[1m1/1\u001b[0m \u001b[32m━━━━━━━━━━━━━━━━━━━━\u001b[0m\u001b[37m\u001b[0m \u001b[1m0s\u001b[0m 14ms/step\n",
            "\u001b[1m1/1\u001b[0m \u001b[32m━━━━━━━━━━━━━━━━━━━━\u001b[0m\u001b[37m\u001b[0m \u001b[1m0s\u001b[0m 12ms/step\n",
            "\u001b[1m1/1\u001b[0m \u001b[32m━━━━━━━━━━━━━━━━━━━━\u001b[0m\u001b[37m\u001b[0m \u001b[1m0s\u001b[0m 13ms/step\n",
            "\u001b[1m1/1\u001b[0m \u001b[32m━━━━━━━━━━━━━━━━━━━━\u001b[0m\u001b[37m\u001b[0m \u001b[1m0s\u001b[0m 12ms/step\n",
            "\u001b[1m1/1\u001b[0m \u001b[32m━━━━━━━━━━━━━━━━━━━━\u001b[0m\u001b[37m\u001b[0m \u001b[1m0s\u001b[0m 13ms/step\n",
            "\u001b[1m1/1\u001b[0m \u001b[32m━━━━━━━━━━━━━━━━━━━━\u001b[0m\u001b[37m\u001b[0m \u001b[1m0s\u001b[0m 12ms/step\n",
            "\u001b[1m1/1\u001b[0m \u001b[32m━━━━━━━━━━━━━━━━━━━━\u001b[0m\u001b[37m\u001b[0m \u001b[1m0s\u001b[0m 12ms/step\n",
            "\u001b[1m1/1\u001b[0m \u001b[32m━━━━━━━━━━━━━━━━━━━━\u001b[0m\u001b[37m\u001b[0m \u001b[1m0s\u001b[0m 13ms/step\n",
            "\u001b[1m1/1\u001b[0m \u001b[32m━━━━━━━━━━━━━━━━━━━━\u001b[0m\u001b[37m\u001b[0m \u001b[1m0s\u001b[0m 12ms/step\n",
            "\u001b[1m1/1\u001b[0m \u001b[32m━━━━━━━━━━━━━━━━━━━━\u001b[0m\u001b[37m\u001b[0m \u001b[1m0s\u001b[0m 12ms/step\n",
            "\u001b[1m1/1\u001b[0m \u001b[32m━━━━━━━━━━━━━━━━━━━━\u001b[0m\u001b[37m\u001b[0m \u001b[1m0s\u001b[0m 13ms/step\n",
            "\u001b[1m1/1\u001b[0m \u001b[32m━━━━━━━━━━━━━━━━━━━━\u001b[0m\u001b[37m\u001b[0m \u001b[1m0s\u001b[0m 14ms/step\n",
            "\u001b[1m1/1\u001b[0m \u001b[32m━━━━━━━━━━━━━━━━━━━━\u001b[0m\u001b[37m\u001b[0m \u001b[1m0s\u001b[0m 12ms/step\n",
            "\u001b[1m1/1\u001b[0m \u001b[32m━━━━━━━━━━━━━━━━━━━━\u001b[0m\u001b[37m\u001b[0m \u001b[1m0s\u001b[0m 12ms/step\n",
            "\u001b[1m1/1\u001b[0m \u001b[32m━━━━━━━━━━━━━━━━━━━━\u001b[0m\u001b[37m\u001b[0m \u001b[1m0s\u001b[0m 12ms/step\n",
            "\u001b[1m1/1\u001b[0m \u001b[32m━━━━━━━━━━━━━━━━━━━━\u001b[0m\u001b[37m\u001b[0m \u001b[1m0s\u001b[0m 13ms/step\n",
            "\u001b[1m1/1\u001b[0m \u001b[32m━━━━━━━━━━━━━━━━━━━━\u001b[0m\u001b[37m\u001b[0m \u001b[1m0s\u001b[0m 13ms/step\n",
            "\u001b[1m1/1\u001b[0m \u001b[32m━━━━━━━━━━━━━━━━━━━━\u001b[0m\u001b[37m\u001b[0m \u001b[1m0s\u001b[0m 12ms/step\n",
            "\u001b[1m1/1\u001b[0m \u001b[32m━━━━━━━━━━━━━━━━━━━━\u001b[0m\u001b[37m\u001b[0m \u001b[1m0s\u001b[0m 12ms/step\n",
            "\u001b[1m1/1\u001b[0m \u001b[32m━━━━━━━━━━━━━━━━━━━━\u001b[0m\u001b[37m\u001b[0m \u001b[1m0s\u001b[0m 12ms/step\n",
            "\u001b[1m1/1\u001b[0m \u001b[32m━━━━━━━━━━━━━━━━━━━━\u001b[0m\u001b[37m\u001b[0m \u001b[1m0s\u001b[0m 12ms/step\n",
            "\u001b[1m1/1\u001b[0m \u001b[32m━━━━━━━━━━━━━━━━━━━━\u001b[0m\u001b[37m\u001b[0m \u001b[1m0s\u001b[0m 16ms/step\n",
            "\u001b[1m1/1\u001b[0m \u001b[32m━━━━━━━━━━━━━━━━━━━━\u001b[0m\u001b[37m\u001b[0m \u001b[1m0s\u001b[0m 13ms/step\n"
          ]
        }
      ],
      "source": [
        "# 7. plotar alguns resultados...\n",
        "fig = plt.figure(figsize=(14,10))\n",
        "count = 1\n",
        "for i in range(5):\n",
        "    for j in range(5):\n",
        "        plt.subplot(5,5,count)\n",
        "\n",
        "        x = X_test[count].reshape((1,28,28,1))\n",
        "\n",
        "        y = model.predict(x)\n",
        "\n",
        "        plt.imshow((255*x).reshape(28,28).astype('uint8'))\n",
        "        plt.title(np.argmax(y))\n",
        "        plt.axis('off')\n",
        "\n",
        "        count = count+1\n",
        "\n",
        "plt.show()\n",
        "plt.pause(0.001)"
      ]
    },
    {
      "cell_type": "code",
      "execution_count": null,
      "id": "bca67c56-f268-4039-ac97-08d92c46fd10",
      "metadata": {
        "id": "bca67c56-f268-4039-ac97-08d92c46fd10"
      },
      "outputs": [],
      "source": []
    },
    {
      "cell_type": "markdown",
      "id": "b67e519c-1ed2-409c-afb1-4634ec17e901",
      "metadata": {
        "id": "b67e519c-1ed2-409c-afb1-4634ec17e901"
      },
      "source": [
        "- Finalmente vamos testar em uma aplicação real. O board irá permitir que escrevamos um digito com o mouse e a rede vai tentar classificar.\n",
        "\n",
        "- Para terminar, pressione o botão direito do mouse e arraste um pouco"
      ]
    },
    {
      "cell_type": "code",
      "execution_count": null,
      "id": "705e4893-060d-419b-a3f6-e023866d5f20",
      "metadata": {
        "id": "705e4893-060d-419b-a3f6-e023866d5f20",
        "outputId": "9b88a959-2dde-41ef-9aa6-687b3206f4c5"
      },
      "outputs": [
        {
          "name": "stdout",
          "output_type": "stream",
          "text": [
            "\u001b[1m1/1\u001b[0m \u001b[32m━━━━━━━━━━━━━━━━━━━━\u001b[0m\u001b[37m\u001b[0m \u001b[1m0s\u001b[0m 14ms/step\n",
            "prediction: 3\n"
          ]
        }
      ],
      "source": [
        "%matplotlib qt5\n",
        "\n",
        "def plotFiltered(model, img):\n",
        "\n",
        "    y = model.layers[0](img.reshape((1,28,28,1)))\n",
        "\n",
        "    for i in range(9):\n",
        "        plt.subplot(3,3,i+1)\n",
        "        plt.imshow(y[0,:,:,i])\n",
        "        plt.axis('off')\n",
        "    plt.tight_layout(pad=0.4)\n",
        "\n",
        "\n",
        "board = Board()\n",
        "board.run()\n",
        "\n",
        "y = np.argmax(model.predict(board.img.reshape(1,28,28,1)))\n",
        "\n",
        "plt.figure()\n",
        "plotFiltered(model, board.img)\n",
        "print(f'prediction: {y}')\n",
        "\n"
      ]
    },
    {
      "cell_type": "code",
      "execution_count": null,
      "id": "1c992562-c758-4dc7-a6ce-887c02799a01",
      "metadata": {
        "id": "1c992562-c758-4dc7-a6ce-887c02799a01"
      },
      "outputs": [],
      "source": [
        "\n"
      ]
    },
    {
      "cell_type": "code",
      "execution_count": null,
      "id": "25344f9d-dca6-4f15-885d-782c96675004",
      "metadata": {
        "id": "25344f9d-dca6-4f15-885d-782c96675004"
      },
      "outputs": [],
      "source": []
    }
  ],
  "metadata": {
    "kernelspec": {
      "display_name": "Python 3 (ipykernel)",
      "language": "python",
      "name": "python3"
    },
    "language_info": {
      "codemirror_mode": {
        "name": "ipython",
        "version": 3
      },
      "file_extension": ".py",
      "mimetype": "text/x-python",
      "name": "python",
      "nbconvert_exporter": "python",
      "pygments_lexer": "ipython3",
      "version": "3.10.10"
    },
    "colab": {
      "provenance": []
    }
  },
  "nbformat": 4,
  "nbformat_minor": 5
}